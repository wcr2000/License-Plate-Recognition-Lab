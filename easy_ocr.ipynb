{
 "cells": [
  {
   "cell_type": "code",
   "execution_count": 1,
   "id": "a0f9e4df",
   "metadata": {},
   "outputs": [
    {
     "name": "stderr",
     "output_type": "stream",
     "text": [
      "/Users/watchara/Documents/me/License-Plate-Recognition-Lab/.venv/lib/python3.13/site-packages/torch/utils/data/dataloader.py:683: UserWarning: 'pin_memory' argument is set as true but not supported on MPS now, then device pinned memory won't be used.\n",
      "  warnings.warn(warn_msg)\n"
     ]
    },
    {
     "name": "stdout",
     "output_type": "stream",
     "text": [
      "[([[np.int32(7), np.int32(9)], [np.int32(99), np.int32(9)], [np.int32(99), np.int32(133)], [np.int32(7), np.int32(133)]], ' 5', np.float64(0.3945216287959586))]\n"
     ]
    }
   ],
   "source": [
    "import easyocr\n",
    "reader = easyocr.Reader(['th'])"
   ]
  },
  {
   "cell_type": "code",
   "execution_count": 7,
   "id": "ad50aa5e",
   "metadata": {},
   "outputs": [
    {
     "name": "stdout",
     "output_type": "stream",
     "text": [
      "[([[0, 0], [91, 0], [91, 108], [0, 108]], 'ธี', np.float64(0.4275869559755508))]\n"
     ]
    },
    {
     "name": "stderr",
     "output_type": "stream",
     "text": [
      "/Users/watchara/Documents/me/License-Plate-Recognition-Lab/.venv/lib/python3.13/site-packages/torch/utils/data/dataloader.py:683: UserWarning: 'pin_memory' argument is set as true but not supported on MPS now, then device pinned memory won't be used.\n",
      "  warnings.warn(warn_msg)\n"
     ]
    }
   ],
   "source": [
    "result = reader.readtext('./char_crops/1730890800671_plate1_char0_A24.jpg')\n",
    "print(result)"
   ]
  },
  {
   "cell_type": "code",
   "execution_count": null,
   "id": "d37f1fc5",
   "metadata": {},
   "outputs": [
    {
     "ename": "HTTPError",
     "evalue": "403 Client Error: Forbidden. Please comply with the User-Agent policy: https://meta.wikimedia.org/wiki/User-Agent_policy for url: https://upload.wikimedia.org/wikipedia/commons/1/15/License_plate_of_Thailand_003.jpg",
     "output_type": "error",
     "traceback": [
      "\u001b[31m---------------------------------------------------------------------------\u001b[39m",
      "\u001b[31mHTTPError\u001b[39m                                 Traceback (most recent call last)",
      "\u001b[36mCell\u001b[39m\u001b[36m \u001b[39m\u001b[32mIn[10]\u001b[39m\u001b[32m, line 13\u001b[39m\n\u001b[32m     11\u001b[39m url = \u001b[33m'\u001b[39m\u001b[33mhttps://upload.wikimedia.org/wikipedia/commons/1/15/License_plate_of_Thailand_003.jpg\u001b[39m\u001b[33m'\u001b[39m\n\u001b[32m     12\u001b[39m resp = requests.get(url)\n\u001b[32m---> \u001b[39m\u001b[32m13\u001b[39m \u001b[43mresp\u001b[49m\u001b[43m.\u001b[49m\u001b[43mraise_for_status\u001b[49m\u001b[43m(\u001b[49m\u001b[43m)\u001b[49m\n\u001b[32m     14\u001b[39m image = Image.open(BytesIO(resp.content)).convert(\u001b[33m\"\u001b[39m\u001b[33mRGB\u001b[39m\u001b[33m\"\u001b[39m)\n\u001b[32m     16\u001b[39m \u001b[38;5;66;03m# Process and generate text\u001b[39;00m\n",
      "\u001b[36mFile \u001b[39m\u001b[32m~/Documents/me/License-Plate-Recognition-Lab/.venv/lib/python3.13/site-packages/requests/models.py:1024\u001b[39m, in \u001b[36mResponse.raise_for_status\u001b[39m\u001b[34m(self)\u001b[39m\n\u001b[32m   1019\u001b[39m     http_error_msg = (\n\u001b[32m   1020\u001b[39m         \u001b[33mf\u001b[39m\u001b[33m\"\u001b[39m\u001b[38;5;132;01m{\u001b[39;00m\u001b[38;5;28mself\u001b[39m.status_code\u001b[38;5;132;01m}\u001b[39;00m\u001b[33m Server Error: \u001b[39m\u001b[38;5;132;01m{\u001b[39;00mreason\u001b[38;5;132;01m}\u001b[39;00m\u001b[33m for url: \u001b[39m\u001b[38;5;132;01m{\u001b[39;00m\u001b[38;5;28mself\u001b[39m.url\u001b[38;5;132;01m}\u001b[39;00m\u001b[33m\"\u001b[39m\n\u001b[32m   1021\u001b[39m     )\n\u001b[32m   1023\u001b[39m \u001b[38;5;28;01mif\u001b[39;00m http_error_msg:\n\u001b[32m-> \u001b[39m\u001b[32m1024\u001b[39m     \u001b[38;5;28;01mraise\u001b[39;00m HTTPError(http_error_msg, response=\u001b[38;5;28mself\u001b[39m)\n",
      "\u001b[31mHTTPError\u001b[39m: 403 Client Error: Forbidden. Please comply with the User-Agent policy: https://meta.wikimedia.org/wiki/User-Agent_policy for url: https://upload.wikimedia.org/wikipedia/commons/1/15/License_plate_of_Thailand_003.jpg"
     ]
    }
   ],
   "source": [
    "from transformers import TrOCRProcessor, VisionEncoderDecoderModel\n",
    "from PIL import Image\n",
    "import requests\n",
    "\n",
    "# Load processor and model\n",
    "processor = TrOCRProcessor.from_pretrained('openthaigpt/thai-trocr')\n",
    "model = VisionEncoderDecoderModel.from_pretrained('openthaigpt/thai-trocr')\n",
    "\n",
    "# Load an image\n",
    "url = 'your_image_url_here'\n",
    "image = Image.open(requests.get(url, stream=True).raw).convert(\"RGB\")\n",
    "\n",
    "# Process and generate text\n",
    "pixel_values = processor(images=image, return_tensors=\"pt\").pixel_values\n",
    "generated_ids = model.generate(pixel_values)\n",
    "generated_text = processor.batch_decode(generated_ids, skip_special_tokens=True)[0]\n",
    "print(generated_text)\n"
   ]
  },
  {
   "cell_type": "code",
   "execution_count": 15,
   "id": "8ef4519e",
   "metadata": {},
   "outputs": [],
   "source": [
    "from transformers import TrOCRProcessor, VisionEncoderDecoderModel\n",
    "from PIL import Image\n",
    "import os\n",
    "\n",
    "# Load processor and model\n",
    "processor = TrOCRProcessor.from_pretrained('openthaigpt/thai-trocr')\n",
    "model = VisionEncoderDecoderModel.from_pretrained('openthaigpt/thai-trocr')"
   ]
  },
  {
   "cell_type": "code",
   "execution_count": 27,
   "id": "0f4cbd3c",
   "metadata": {},
   "outputs": [
    {
     "name": "stdout",
     "output_type": "stream",
     "text": [
      "1นข6991\n"
     ]
    }
   ],
   "source": [
    "# Path ไปยังไฟล์ภาพบนเครื่อง\n",
    "local_path = './crop_image/1745831776172_plate1.jpg'  # ปรับเป็นพาธที่แท้จริง\n",
    "# local_path = './char_crops/1730889015165_plate1_char3_2.jpg' # ตรวจสอบว่าไฟล์มีอยู่จริง\n",
    "if not os.path.exists(local_path):\n",
    "    raise FileNotFoundError(f\"ไม่พบไฟล์: {local_path}\")\n",
    "\n",
    "# เปิดภาพจากไฟล์ในเครื่อง\n",
    "image = Image.open(local_path).convert(\"RGB\")\n",
    "\n",
    "# Process และ generate text\n",
    "pixel_values = processor(images=image, return_tensors=\"pt\").pixel_values\n",
    "generated_ids = model.generate(\n",
    "    pixel_values,\n",
    "    max_length=40,\n",
    "    num_beams=4,\n",
    "    early_stopping=True,\n",
    "    decoder_start_token_id=model.config.decoder_start_token_id\n",
    ")\n",
    "\n",
    "import re\n",
    "generated_text = processor.batch_decode(generated_ids, skip_special_tokens=True)[0]\n",
    "filtered = re.sub(r'[^ก-ฮ0-9]', '', generated_text)\n",
    "print(filtered)"
   ]
  },
  {
   "cell_type": "code",
   "execution_count": null,
   "id": "32ad1378",
   "metadata": {},
   "outputs": [],
   "source": []
  }
 ],
 "metadata": {
  "kernelspec": {
   "display_name": ".venv",
   "language": "python",
   "name": "python3"
  },
  "language_info": {
   "codemirror_mode": {
    "name": "ipython",
    "version": 3
   },
   "file_extension": ".py",
   "mimetype": "text/x-python",
   "name": "python",
   "nbconvert_exporter": "python",
   "pygments_lexer": "ipython3",
   "version": "3.13.2"
  }
 },
 "nbformat": 4,
 "nbformat_minor": 5
}
